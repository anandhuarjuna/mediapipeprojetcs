{
 "cells": [
  {
   "cell_type": "code",
   "execution_count": 7,
   "metadata": {},
   "outputs": [],
   "source": [
    "import mediapipe as mp\n",
    "import cv2"
   ]
  },
  {
   "cell_type": "code",
   "execution_count": 8,
   "metadata": {},
   "outputs": [],
   "source": [
    "mphands=mp.solutions.hands\n",
    "mp_drawings=mp.solutions.drawing_utils"
   ]
  },
  {
   "cell_type": "code",
   "execution_count": 9,
   "metadata": {},
   "outputs": [],
   "source": [
    "Hands=mphands.Hands()"
   ]
  },
  {
   "cell_type": "code",
   "execution_count": 10,
   "metadata": {},
   "outputs": [],
   "source": [
    "cap=cv2.VideoCapture(0)\n",
    "while True:\n",
    "    data,image=cap.read()\n",
    "    img=cv2.cvtColor(image,cv2.COLOR_BGR2RGB)\n",
    "    results=Hands.process(image)\n",
    "    #print(results)\n",
    "    image=cv2.cvtColor(image,cv2.COLOR_RGB2BGR)\n",
    "    if results.multi_hand_landmarks:\n",
    "        for hand_landmarks in results.multi_hand_landmarks:\n",
    "            mp_drawings.draw_landmarks(image,hand_landmarks,mphands.HAND_CONNECTIONS)\n",
    "\n",
    "\n",
    "\n",
    "\n",
    "    cv2.imshow('handtracking',image)\n",
    "    if cv2.waitKey(1) & 0XFF==ord('q'):\n",
    "        break\n",
    "cap.release()\n",
    "cv2.destroyAllWindows()"
   ]
  },
  {
   "cell_type": "code",
   "execution_count": 11,
   "metadata": {},
   "outputs": [
    {
     "data": {
      "text/plain": [
       "landmark {\n",
       "  x: 0.6135908961296082\n",
       "  y: 1.0075043439865112\n",
       "  z: -2.9998633976902056e-07\n",
       "}\n",
       "landmark {\n",
       "  x: 0.6373248100280762\n",
       "  y: 0.9571430683135986\n",
       "  z: -0.0020390755962580442\n",
       "}\n",
       "landmark {\n",
       "  x: 0.6528716087341309\n",
       "  y: 0.9022736549377441\n",
       "  z: -0.009980346076190472\n",
       "}\n",
       "landmark {\n",
       "  x: 0.6596859097480774\n",
       "  y: 0.8592163324356079\n",
       "  z: -0.022457363083958626\n",
       "}\n",
       "landmark {\n",
       "  x: 0.6590540409088135\n",
       "  y: 0.8212819695472717\n",
       "  z: -0.03287634253501892\n",
       "}\n",
       "landmark {\n",
       "  x: 0.5944965481758118\n",
       "  y: 0.8150503635406494\n",
       "  z: 0.0046854810789227486\n",
       "}\n",
       "landmark {\n",
       "  x: 0.6187072992324829\n",
       "  y: 0.7829054594039917\n",
       "  z: -0.017671553418040276\n",
       "}\n",
       "landmark {\n",
       "  x: 0.6404582858085632\n",
       "  y: 0.8257547616958618\n",
       "  z: -0.03447233512997627\n",
       "}\n",
       "landmark {\n",
       "  x: 0.6485084891319275\n",
       "  y: 0.8668141961097717\n",
       "  z: -0.04148329049348831\n",
       "}\n",
       "landmark {\n",
       "  x: 0.5740859508514404\n",
       "  y: 0.827173113822937\n",
       "  z: -0.0042535592801868916\n",
       "}\n",
       "landmark {\n",
       "  x: 0.6106394529342651\n",
       "  y: 0.8017486333847046\n",
       "  z: -0.023477114737033844\n",
       "}\n",
       "landmark {\n",
       "  x: 0.6340145468711853\n",
       "  y: 0.8488391637802124\n",
       "  z: -0.03198730945587158\n",
       "}\n",
       "landmark {\n",
       "  x: 0.6428919434547424\n",
       "  y: 0.8922191858291626\n",
       "  z: -0.0329134501516819\n",
       "}\n",
       "landmark {\n",
       "  x: 0.5563751459121704\n",
       "  y: 0.8471929430961609\n",
       "  z: -0.015778232365846634\n",
       "}\n",
       "landmark {\n",
       "  x: 0.5982221961021423\n",
       "  y: 0.8296866416931152\n",
       "  z: -0.03434893861413002\n",
       "}\n",
       "landmark {\n",
       "  x: 0.6194543838500977\n",
       "  y: 0.8754178881645203\n",
       "  z: -0.03172610327601433\n",
       "}\n",
       "landmark {\n",
       "  x: 0.6268326044082642\n",
       "  y: 0.916837751865387\n",
       "  z: -0.02402271330356598\n",
       "}\n",
       "landmark {\n",
       "  x: 0.5421048998832703\n",
       "  y: 0.8750467896461487\n",
       "  z: -0.028009263798594475\n",
       "}\n",
       "landmark {\n",
       "  x: 0.5783409476280212\n",
       "  y: 0.8550686240196228\n",
       "  z: -0.03925730288028717\n",
       "}\n",
       "landmark {\n",
       "  x: 0.5998018980026245\n",
       "  y: 0.8889559507369995\n",
       "  z: -0.032715924084186554\n",
       "}\n",
       "landmark {\n",
       "  x: 0.6097822189331055\n",
       "  y: 0.9231149554252625\n",
       "  z: -0.022895129397511482\n",
       "}"
      ]
     },
     "execution_count": 11,
     "metadata": {},
     "output_type": "execute_result"
    }
   ],
   "source": [
    "hand_landmarks  "
   ]
  }
 ],
 "metadata": {
  "kernelspec": {
   "display_name": "myenv",
   "language": "python",
   "name": "python3"
  },
  "language_info": {
   "codemirror_mode": {
    "name": "ipython",
    "version": 3
   },
   "file_extension": ".py",
   "mimetype": "text/x-python",
   "name": "python",
   "nbconvert_exporter": "python",
   "pygments_lexer": "ipython3",
   "version": "3.7.0"
  },
  "orig_nbformat": 4,
  "vscode": {
   "interpreter": {
    "hash": "a60c9595559c70b4dfe4ce9d3951f096e2d3eefba9e862c3f838be833c0cf30c"
   }
  }
 },
 "nbformat": 4,
 "nbformat_minor": 2
}
